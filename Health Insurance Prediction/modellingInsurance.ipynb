{
 "cells": [
  {
   "cell_type": "code",
   "execution_count": 1,
   "metadata": {},
   "outputs": [],
   "source": [
    "#!python3\n",
    "\n",
    "import os\n",
    "import pickle\n",
    "import time\n",
    "\n",
    "import pandas as pd\n",
    "import numpy as np\n",
    "\n",
    "from sklearn.preprocessing import StandardScaler\n",
    "from sklearn.preprocessing import LabelEncoder\n",
    "from sklearn.preprocessing import OneHotEncoder\n",
    "from sklearn.neighbors import KNeighborsClassifier\n",
    "from sklearn.metrics import classification_report\n",
    "from sklearn.model_selection import train_test_split\n",
    "\n",
    "import warnings\n",
    "warnings.filterwarnings('ignore')"
   ]
  },
  {
   "cell_type": "code",
   "execution_count": 2,
   "metadata": {},
   "outputs": [],
   "source": [
    "def colPreparation():\n",
    "    labelEncoder = ['Gender','Driving_License','Previously_Insured','Vehicle_Damage']\n",
    "    oneHotEncoder = ['Vehicle_Age','Region_Code','Policy_Sales_Channel']\n",
    "    standarScaller = ['Age','Annual_Premium','Vintage']\n",
    "    \n",
    "    return labelEncoder, oneHotEncoder, standarScaller"
   ]
  },
  {
   "cell_type": "code",
   "execution_count": 3,
   "metadata": {},
   "outputs": [],
   "source": [
    "def prepOneHotEncoder(df, col, path):\n",
    "    filename = 'prep'+col+'.pkl'\n",
    "    labelOnetHotEncoder = OneHotEncoder()\n",
    "    dfOneHotEncoder = pd.DataFrame(labelOnetHotEncoder.fit_transform(df[[col]]).toarray(), \\\n",
    "                                   columns = [col+\"_\"+str(i+1) for i in range(len(df[col].unique()))])\n",
    "    \n",
    "    pickle.dump(labelOnetHotEncoder, open(path + filename, 'wb'))\n",
    "    df = pd.concat([df.drop(col, axis=1), dfOneHotEncoder], axis=1)\n",
    "    return df\n",
    "\n",
    "def prepLabelEncoder(df, col, path):\n",
    "    filename = 'prep'+col+'.pkl'\n",
    "    labelencoder = LabelEncoder()\n",
    "    dflabelencoder = pd.DataFrame(labelencoder.fit_transform(df[[col]]), \\\n",
    "                                  columns = [col])\n",
    "    \n",
    "    pickle.dump(labelencoder, open(path + filename, 'wb'))\n",
    "    df = pd.concat([df.drop(col, axis=1), dflabelencoder], axis=1)\n",
    "    return df\n",
    "\n",
    "def prepStandarScaler(df, col, path):\n",
    "    filename = 'prep'+col+'.pkl'\n",
    "    scallingStandarScaler = StandardScaler()\n",
    "    dfStandarScaler = pd.DataFrame(scallingStandarScaler.fit_transform(df[[col]]), \\\n",
    "                                   columns = [col])\n",
    "\n",
    "    pickle.dump(scallingStandarScaler, open(path + filename, 'wb'))\n",
    "    df = pd.concat([df.drop(col, axis=1), dfStandarScaler], axis=1)\n",
    "    return df"
   ]
  },
  {
   "cell_type": "code",
   "execution_count": 4,
   "metadata": {},
   "outputs": [],
   "source": [
    "pathPackages = os.getcwd()+\"\\\\\"+\"packages\"+\"\\\\\"\n",
    "pathData = os.getcwd()+\"\\\\\"+\"data\"+\"\\\\\""
   ]
  },
  {
   "cell_type": "code",
   "execution_count": 5,
   "metadata": {},
   "outputs": [
    {
     "data": {
      "text/html": [
       "<div>\n",
       "<style scoped>\n",
       "    .dataframe tbody tr th:only-of-type {\n",
       "        vertical-align: middle;\n",
       "    }\n",
       "\n",
       "    .dataframe tbody tr th {\n",
       "        vertical-align: top;\n",
       "    }\n",
       "\n",
       "    .dataframe thead th {\n",
       "        text-align: right;\n",
       "    }\n",
       "</style>\n",
       "<table border=\"1\" class=\"dataframe\">\n",
       "  <thead>\n",
       "    <tr style=\"text-align: right;\">\n",
       "      <th></th>\n",
       "      <th>Gender</th>\n",
       "      <th>Age</th>\n",
       "      <th>Driving_License</th>\n",
       "      <th>Region_Code</th>\n",
       "      <th>Previously_Insured</th>\n",
       "      <th>Vehicle_Age</th>\n",
       "      <th>Vehicle_Damage</th>\n",
       "      <th>Annual_Premium</th>\n",
       "      <th>Policy_Sales_Channel</th>\n",
       "      <th>Vintage</th>\n",
       "      <th>Response</th>\n",
       "    </tr>\n",
       "  </thead>\n",
       "  <tbody>\n",
       "    <tr>\n",
       "      <th>0</th>\n",
       "      <td>Male</td>\n",
       "      <td>44</td>\n",
       "      <td>1</td>\n",
       "      <td>28.0</td>\n",
       "      <td>0</td>\n",
       "      <td>&gt; 2 Years</td>\n",
       "      <td>Yes</td>\n",
       "      <td>40454.0</td>\n",
       "      <td>26.0</td>\n",
       "      <td>217</td>\n",
       "      <td>1</td>\n",
       "    </tr>\n",
       "  </tbody>\n",
       "</table>\n",
       "</div>"
      ],
      "text/plain": [
       "  Gender  Age  Driving_License  Region_Code  Previously_Insured Vehicle_Age  \\\n",
       "0   Male   44                1         28.0                   0   > 2 Years   \n",
       "\n",
       "  Vehicle_Damage  Annual_Premium  Policy_Sales_Channel  Vintage  Response  \n",
       "0            Yes         40454.0                  26.0      217         1  "
      ]
     },
     "execution_count": 5,
     "metadata": {},
     "output_type": "execute_result"
    }
   ],
   "source": [
    "data = pd.read_csv(pathData + 'train.csv')\n",
    "data = data.drop('id', axis=1)\n",
    "data.head(1)"
   ]
  },
  {
   "cell_type": "code",
   "execution_count": 6,
   "metadata": {},
   "outputs": [
    {
     "data": {
      "text/html": [
       "<div>\n",
       "<style scoped>\n",
       "    .dataframe tbody tr th:only-of-type {\n",
       "        vertical-align: middle;\n",
       "    }\n",
       "\n",
       "    .dataframe tbody tr th {\n",
       "        vertical-align: top;\n",
       "    }\n",
       "\n",
       "    .dataframe thead th {\n",
       "        text-align: right;\n",
       "    }\n",
       "</style>\n",
       "<table border=\"1\" class=\"dataframe\">\n",
       "  <thead>\n",
       "    <tr style=\"text-align: right;\">\n",
       "      <th></th>\n",
       "      <th>Gender</th>\n",
       "      <th>Age</th>\n",
       "      <th>Driving_License</th>\n",
       "      <th>Region_Code_1</th>\n",
       "      <th>Region_Code_2</th>\n",
       "      <th>Region_Code_3</th>\n",
       "      <th>Region_Code_4</th>\n",
       "      <th>Region_Code_5</th>\n",
       "      <th>Region_Code_6</th>\n",
       "      <th>Region_Code_7</th>\n",
       "      <th>...</th>\n",
       "      <th>Policy_Sales_Channel_147</th>\n",
       "      <th>Policy_Sales_Channel_148</th>\n",
       "      <th>Policy_Sales_Channel_149</th>\n",
       "      <th>Policy_Sales_Channel_150</th>\n",
       "      <th>Policy_Sales_Channel_151</th>\n",
       "      <th>Policy_Sales_Channel_152</th>\n",
       "      <th>Policy_Sales_Channel_153</th>\n",
       "      <th>Policy_Sales_Channel_154</th>\n",
       "      <th>Policy_Sales_Channel_155</th>\n",
       "      <th>Vintage</th>\n",
       "    </tr>\n",
       "  </thead>\n",
       "  <tbody>\n",
       "    <tr>\n",
       "      <th>0</th>\n",
       "      <td>1</td>\n",
       "      <td>0.333777</td>\n",
       "      <td>1</td>\n",
       "      <td>0.0</td>\n",
       "      <td>0.0</td>\n",
       "      <td>0.0</td>\n",
       "      <td>0.0</td>\n",
       "      <td>0.0</td>\n",
       "      <td>0.0</td>\n",
       "      <td>0.0</td>\n",
       "      <td>...</td>\n",
       "      <td>0.0</td>\n",
       "      <td>0.0</td>\n",
       "      <td>0.0</td>\n",
       "      <td>0.0</td>\n",
       "      <td>0.0</td>\n",
       "      <td>0.0</td>\n",
       "      <td>0.0</td>\n",
       "      <td>0.0</td>\n",
       "      <td>0.0</td>\n",
       "      <td>0.748795</td>\n",
       "    </tr>\n",
       "  </tbody>\n",
       "</table>\n",
       "<p>1 rows × 218 columns</p>\n",
       "</div>"
      ],
      "text/plain": [
       "   Gender       Age  Driving_License  Region_Code_1  Region_Code_2  \\\n",
       "0       1  0.333777                1            0.0            0.0   \n",
       "\n",
       "   Region_Code_3  Region_Code_4  Region_Code_5  Region_Code_6  Region_Code_7  \\\n",
       "0            0.0            0.0            0.0            0.0            0.0   \n",
       "\n",
       "   ...  Policy_Sales_Channel_147  Policy_Sales_Channel_148  \\\n",
       "0  ...                       0.0                       0.0   \n",
       "\n",
       "   Policy_Sales_Channel_149  Policy_Sales_Channel_150  \\\n",
       "0                       0.0                       0.0   \n",
       "\n",
       "   Policy_Sales_Channel_151  Policy_Sales_Channel_152  \\\n",
       "0                       0.0                       0.0   \n",
       "\n",
       "   Policy_Sales_Channel_153  Policy_Sales_Channel_154  \\\n",
       "0                       0.0                       0.0   \n",
       "\n",
       "   Policy_Sales_Channel_155   Vintage  \n",
       "0                       0.0  0.748795  \n",
       "\n",
       "[1 rows x 218 columns]"
      ]
     },
     "execution_count": 6,
     "metadata": {},
     "output_type": "execute_result"
    }
   ],
   "source": [
    "X = data.drop('Response', axis=1)\n",
    "y = data['Response']\n",
    "\n",
    "pickle.dump(X.columns.tolist(), open(pathPackages + 'columnPreparation.pkl','wb'))\n",
    "colEncoder, colpOneHotEncoder, colStandarScaler = colPreparation()\n",
    "\n",
    "for col in X.columns:\n",
    "    if col in colEncoder:\n",
    "        X = prepLabelEncoder(X, col, pathPackages)\n",
    "        \n",
    "    elif col in colpOneHotEncoder:\n",
    "        X = prepOneHotEncoder(X, col, pathPackages)\n",
    "        \n",
    "    elif col in colStandarScaler:\n",
    "        X = prepStandarScaler(X, col, pathPackages)\n",
    "\n",
    "pickle.dump(X.columns.tolist(), open(pathPackages + 'columnModelling.pkl','wb'))\n",
    "X.head(1)"
   ]
  },
  {
   "cell_type": "code",
   "execution_count": 7,
   "metadata": {},
   "outputs": [
    {
     "name": "stdout",
     "output_type": "stream",
     "text": [
      "323942 57167 323942 57167\n"
     ]
    }
   ],
   "source": [
    "X_train, X_test, y_train, y_test = train_test_split(X, y, test_size=0.15, random_state=42)\n",
    "print(len(X_train), len(X_test), len(y_train), len(y_test))"
   ]
  },
  {
   "cell_type": "code",
   "execution_count": 8,
   "metadata": {},
   "outputs": [
    {
     "name": "stdout",
     "output_type": "stream",
     "text": [
      "1.232212781906128 seconds time training model.....\n"
     ]
    }
   ],
   "source": [
    "start = time.time()\n",
    "\n",
    "model = KNeighborsClassifier(n_neighbors=5)\n",
    "model.fit(X_train,y_train)\n",
    "\n",
    "stop = time.time()\n",
    "with open(pathPackages + 'model_InsuranceRecommendation.pkl','wb') as file:\n",
    "    pickle.dump(model, file)\n",
    "print(f\"{stop-start} seconds time training model.....\")"
   ]
  },
  {
   "cell_type": "code",
   "execution_count": 9,
   "metadata": {},
   "outputs": [
    {
     "name": "stdout",
     "output_type": "stream",
     "text": [
      "total test : 57167\n"
     ]
    }
   ],
   "source": [
    "print('total test :', len(y_test))\n",
    "y_pred = list(model.predict(X_test))\n",
    "y_true = list(y_test)"
   ]
  },
  {
   "cell_type": "code",
   "execution_count": 10,
   "metadata": {},
   "outputs": [
    {
     "name": "stdout",
     "output_type": "stream",
     "text": [
      "              precision    recall  f1-score   support\n",
      "\n",
      "           0       0.89      0.95      0.92     49995\n",
      "           1       0.36      0.19      0.24      7172\n",
      "\n",
      "    accuracy                           0.86     57167\n",
      "   macro avg       0.63      0.57      0.58     57167\n",
      "weighted avg       0.82      0.86      0.84     57167\n",
      "\n"
     ]
    }
   ],
   "source": [
    "print(classification_report(y_true, y_pred, target_names=['0', '1']))"
   ]
  }
 ],
 "metadata": {
  "kernelspec": {
   "display_name": "base",
   "language": "python",
   "name": "python3"
  },
  "language_info": {
   "codemirror_mode": {
    "name": "ipython",
    "version": 3
   },
   "file_extension": ".py",
   "mimetype": "text/x-python",
   "name": "python",
   "nbconvert_exporter": "python",
   "pygments_lexer": "ipython3",
   "version": "3.10.0"
  },
  "vscode": {
   "interpreter": {
    "hash": "9d19b846c981df6691e2bdb59be634a7ebbdaac55797ba17323322a2d3a54045"
   }
  }
 },
 "nbformat": 4,
 "nbformat_minor": 4
}
